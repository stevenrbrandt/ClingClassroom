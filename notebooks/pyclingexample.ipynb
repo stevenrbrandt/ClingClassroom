{
 "cells": [
  {
   "cell_type": "markdown",
   "metadata": {},
   "source": [
    "# Cling Magic!\n",
    "First, install the cling magic"
   ]
  },
  {
   "cell_type": "code",
   "execution_count": null,
   "metadata": {},
   "outputs": [],
   "source": [
    "from cling import cling"
   ]
  },
  {
   "cell_type": "markdown",
   "metadata": {},
   "source": [
    "Now you can execute C++ statements, one at a time. Usually, it's a\n",
    "good idea to execute headers by themselves."
   ]
  },
  {
   "cell_type": "code",
   "execution_count": null,
   "metadata": {},
   "outputs": [],
   "source": [
    "%%cling\n",
    "#include <iostream>"
   ]
  },
  {
   "cell_type": "markdown",
   "metadata": {},
   "source": [
    "When you provide a cling magic cell, it starts a background cling interpreter. All subsequent\n",
    "uses of cling magic sends commands to that same interpreter."
   ]
  },
  {
   "cell_type": "code",
   "execution_count": null,
   "metadata": {},
   "outputs": [],
   "source": [
    "%%cling\n",
    "std::cout << \"magic!\" << std::endl;"
   ]
  },
  {
   "cell_type": "markdown",
   "metadata": {},
   "source": [
    "## Communicating between Python and Cling\n",
    "If you define Python variables, you can send them to your c++ code. Anywhere\n",
    "the string {pythonvar} occurs, the C++ code will be replaced with the contents of the Python variable."
   ]
  },
  {
   "cell_type": "code",
   "execution_count": null,
   "metadata": {},
   "outputs": [],
   "source": [
    "foo = \"world\""
   ]
  },
  {
   "cell_type": "code",
   "execution_count": null,
   "metadata": {},
   "outputs": [],
   "source": [
    "%%cling\n",
    "// Note that \"baz\" is not defined by Python, but \"foo\" is.\n",
    "std::cout << \"Hello {foo} {baz}\" << std::endl;"
   ]
  },
  {
   "cell_type": "markdown",
   "metadata": {},
   "source": [
    "You can also communicate from C++ to Python. To do this, provide a variable name\n",
    "on the same line as the \"%%cling\" statement."
   ]
  },
  {
   "cell_type": "code",
   "execution_count": null,
   "metadata": {},
   "outputs": [],
   "source": [
    "%%cling\n",
    "int aa = 0;"
   ]
  },
  {
   "cell_type": "code",
   "execution_count": null,
   "metadata": {},
   "outputs": [],
   "source": [
    "%%cling feedback\n",
    "aa = 3;\n",
    "std::cout << \"a=\" << aa << std::endl;"
   ]
  },
  {
   "cell_type": "code",
   "execution_count": null,
   "metadata": {},
   "outputs": [],
   "source": [
    "from cling import results\n",
    "print(results['feedback'])"
   ]
  },
  {
   "cell_type": "markdown",
   "metadata": {},
   "source": [
    "## Replay\n",
    "It may happen that you kill your session by causing a segfault."
   ]
  },
  {
   "cell_type": "code",
   "execution_count": null,
   "metadata": {},
   "outputs": [],
   "source": [
    "%%cling\n",
    "int *ptr = 0;\n",
    "ptr[0]=1;"
   ]
  },
  {
   "cell_type": "markdown",
   "metadata": {},
   "source": [
    "In this case, you can replay all the commands prior to the segfault."
   ]
  },
  {
   "cell_type": "code",
   "execution_count": null,
   "metadata": {},
   "outputs": [],
   "source": [
    "from cling import replay\n",
    "replay()"
   ]
  },
  {
   "cell_type": "code",
   "execution_count": null,
   "metadata": {},
   "outputs": [],
   "source": [
    "%%cling\n",
    "std::cout << \"aa=\" << aa << std::endl;"
   ]
  },
  {
   "cell_type": "markdown",
   "metadata": {},
   "source": [
    "The \"--init\" option forces the cling kernel to restart, wiping out all history."
   ]
  },
  {
   "cell_type": "code",
   "execution_count": null,
   "metadata": {},
   "outputs": [],
   "source": [
    "%%cling --init\n",
    "#include <string>"
   ]
  },
  {
   "cell_type": "code",
   "execution_count": null,
   "metadata": {},
   "outputs": [],
   "source": [
    "%%cling\n",
    "std::string aa = \"new value\";"
   ]
  },
  {
   "cell_type": "code",
   "execution_count": null,
   "metadata": {},
   "outputs": [],
   "source": [
    "%%cling\n",
    "\n",
    "#include <hpx/hpx.hpp>\n",
    "#include <functional>\n",
    "\n",
    "// The Fibonacci function written using hpx async\n",
    "int fib(int n) {\n",
    "    if(n < 2) return n;\n",
    "    \n",
    "    // launch a thread\n",
    "    hpx::future<int> f1 = hpx::async(hpx::launch::async, fib,n-1);\n",
    "    \n",
    "    // do work while the thread is running\n",
    "    int f2 = fib(n-2);\n",
    "    \n",
    "    // wait for the thread to complete\n",
    "    return f1.get() + f2;\n",
    "}"
   ]
  },
  {
   "cell_type": "code",
   "execution_count": null,
   "metadata": {},
   "outputs": [],
   "source": [
    "%%cling\n",
    "{\n",
    "    // Don't leave n in the namespace\n",
    "    int n=10;\n",
    "    std::cout << \"fib(\" << n << \")=\" << fib(n) << std::endl;\n",
    "}"
   ]
  },
  {
   "cell_type": "code",
   "execution_count": null,
   "metadata": {},
   "outputs": [],
   "source": []
  }
 ],
 "metadata": {
  "kernelspec": {
   "display_name": "Python 3 (ipykernel)",
   "language": "python",
   "name": "python3"
  },
  "language_info": {
   "codemirror_mode": {
    "name": "ipython",
    "version": 3
   },
   "file_extension": ".py",
   "mimetype": "text/x-python",
   "name": "python",
   "nbconvert_exporter": "python",
   "pygments_lexer": "ipython3",
   "version": "3.10.12"
  }
 },
 "nbformat": 4,
 "nbformat_minor": 4
}
